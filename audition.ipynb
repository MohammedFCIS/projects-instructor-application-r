{
 "cells": [
  {
   "cell_type": "markdown",
   "metadata": {},
   "source": [
    "# 1. Project information"
   ]
  },
  {
   "cell_type": "markdown",
   "metadata": {},
   "source": [
    "**Project title**: DrugBank: An Exploratory Analysis.\n",
    "\n",
    "**Name:** Mohammed Ali\n",
    "\n",
    "**Email address associated with your DataCamp account:** mohammed.ali@edu.dsti.institute\n",
    "\n",
    "**Project description**: The field of drug discovery is about finding new medications for diseases and/or symptoms of interest. Widely used in drug discovery, DrugBank is a publicly available resource that stores high-quality information on drugs and their targets. Since its incpetion in 2005, DrugBank has been frequently used by pharmaceutical companies, medicinal chemists, students and the general public. In this project, we will be performing an exploratory analysis of DrugBank. That is, we will explore the DrugBank database in terms of drugs, drug indications, drug targets, drug manufacturers and so on. Doing so will give us a bird's eye view on the current state of the field of drug discovery in general as well as any ongoing trends. We will be exploring the dataset of this project via data visualization packages such as *ggplot* and *plotly*.\n",
    "\n",
    "**Dataset(s) used**: The dataset is a subset of the full information stored in the DrugBank database. The dataset consists of information on thousands of drugs including their indications (i.e. diseases/symptoms they are intended to treat), targets, drug manufacturers and so on.\n",
    "\n",
    "**Assumed student knowledge**: Familiariaty with the *tidyverse* set of packages would be very helpful. Specifically, we will be using the *dplyr* and *ggplot* packages as well as the pipe operator, %>%. We also make use of the *plotly* package to produce some interactive visualizations."
   ]
  },
  {
   "cell_type": "markdown",
   "metadata": {},
   "source": [
    "# 2. Project introduction"
   ]
  },
  {
   "cell_type": "markdown",
   "metadata": {},
   "source": [
    "## 1. *DrugBank*"
   ]
  },
  {
   "cell_type": "markdown",
   "metadata": {},
   "source": [
    "<img style=\"float:right; margin:20px\" src=\"http://darwinian-medicine.com/wp-content/uploads/2018/04/selection-of-pills.png\" alt=\"Generic Drugs Photo\" width=\"30%\"/>\n",
    "\n",
    "DrugBank is a publicly free database that is widely used in the field of drug discovery. DrugBank stores extensive information on drugs and their targets. Established in 2005, DrugBank has since been adding so-called \"drug cards\" which are essentially records that contain supplementary information on the drugs (e.g. chemical structure, commercial names, ADMET properties, etc.) as well as their known targets (usually proteins). These drug cards are regularly curated by experts who ensure that the data inserted into DrugBank are accurate and up-to-date. These data are useful for pharmaceutical scientists and biochemists who are involved in drug development. DrugBank may be accessed at: https://www.drugbank.ca/\n",
    "\n",
    "The dataset that we will use here is a subset of the full DrugBank database containing the information we need for our analysis. Specifically, we will explore multiple aspects of the DrugBank database to understand the current state of affairs in the DrugBank database and, by proxy, the field of drug discovery in general.\n",
    "\n",
    "***Let's go!***\n",
    "\n",
    "<img style=\"margin-top:20px; margin-bottom:20px\" src=\"https://upload.wikimedia.org/wikipedia/commons/thumb/f/fd/Drugbank_logo.svg/2000px-Drugbank_logo.svg.png\" alt=\"DrugBank Logo\" width=\"98%\" align='left'/>"
   ]
  },
  {
   "cell_type": "code",
   "execution_count": 3,
   "metadata": {},
   "outputs": [
    {
     "name": "stderr",
     "output_type": "stream",
     "text": [
      "Parsed with column specification:\n",
      "cols(\n",
      "  drug = col_character(),\n",
      "  creationDate = col_date(format = \"\"),\n",
      "  type = col_character(),\n",
      "  status = col_character()\n",
      ")\n"
     ]
    },
    {
     "data": {
      "text/html": [
       "<table>\n",
       "<thead><tr><th scope=col>drug</th><th scope=col>creationDate</th><th scope=col>type</th><th scope=col>status</th></tr></thead>\n",
       "<tbody>\n",
       "\t<tr><td>DB09191        </td><td>2015-10-16     </td><td>small molecule </td><td>experimental   </td></tr>\n",
       "\t<tr><td>DB12179        </td><td>2016-10-20     </td><td>small molecule </td><td>investigational</td></tr>\n",
       "\t<tr><td>DB10508        </td><td>2015-12-01     </td><td>biotech        </td><td>approved       </td></tr>\n",
       "\t<tr><td>DB12296        </td><td>2016-10-20     </td><td>biotech        </td><td>investigational</td></tr>\n",
       "\t<tr><td>DB05562        </td><td>2007-11-18     </td><td>small molecule </td><td>investigational</td></tr>\n",
       "\t<tr><td>DB01974        </td><td>2005-06-13     </td><td>small molecule </td><td>experimental   </td></tr>\n",
       "\t<tr><td>DB03896        </td><td>2005-06-13     </td><td>small molecule </td><td>experimental   </td></tr>\n",
       "\t<tr><td>DB06670        </td><td>2008-03-19     </td><td>small molecule </td><td>investigational</td></tr>\n",
       "\t<tr><td>DB09262        </td><td>2015-10-26     </td><td>small molecule </td><td>approved       </td></tr>\n",
       "\t<tr><td>DB14065        </td><td>2018-06-14     </td><td>small molecule </td><td>experimental   </td></tr>\n",
       "\t<tr><td>DB00401        </td><td>2005-06-13     </td><td>small molecule </td><td>approved       </td></tr>\n",
       "\t<tr><td>DB01803        </td><td>2005-06-13     </td><td>small molecule </td><td>experimental   </td></tr>\n",
       "\t<tr><td>DB09350        </td><td>2015-11-27     </td><td>small molecule </td><td>approved       </td></tr>\n",
       "\t<tr><td>DB00013        </td><td>2005-06-13     </td><td>biotech        </td><td>withdrawn      </td></tr>\n",
       "\t<tr><td>DB04687        </td><td>2007-09-11     </td><td>small molecule </td><td>experimental   </td></tr>\n",
       "\t<tr><td>DB05736        </td><td>2007-11-18     </td><td>small molecule </td><td>investigational</td></tr>\n",
       "\t<tr><td>DB04650        </td><td>2007-09-11     </td><td>small molecule </td><td>experimental   </td></tr>\n",
       "\t<tr><td>DB04816        </td><td>2007-09-11     </td><td>small molecule </td><td>withdrawn      </td></tr>\n",
       "\t<tr><td>DB02121        </td><td>2005-06-13     </td><td>small molecule </td><td>experimental   </td></tr>\n",
       "\t<tr><td>DB13053        </td><td>2016-10-20     </td><td>small molecule </td><td>investigational</td></tr>\n",
       "</tbody>\n",
       "</table>\n"
      ],
      "text/latex": [
       "\\begin{tabular}{r|llll}\n",
       " drug & creationDate & type & status\\\\\n",
       "\\hline\n",
       "\t DB09191         & 2015-10-16      & small molecule  & experimental   \\\\\n",
       "\t DB12179         & 2016-10-20      & small molecule  & investigational\\\\\n",
       "\t DB10508         & 2015-12-01      & biotech         & approved       \\\\\n",
       "\t DB12296         & 2016-10-20      & biotech         & investigational\\\\\n",
       "\t DB05562         & 2007-11-18      & small molecule  & investigational\\\\\n",
       "\t DB01974         & 2005-06-13      & small molecule  & experimental   \\\\\n",
       "\t DB03896         & 2005-06-13      & small molecule  & experimental   \\\\\n",
       "\t DB06670         & 2008-03-19      & small molecule  & investigational\\\\\n",
       "\t DB09262         & 2015-10-26      & small molecule  & approved       \\\\\n",
       "\t DB14065         & 2018-06-14      & small molecule  & experimental   \\\\\n",
       "\t DB00401         & 2005-06-13      & small molecule  & approved       \\\\\n",
       "\t DB01803         & 2005-06-13      & small molecule  & experimental   \\\\\n",
       "\t DB09350         & 2015-11-27      & small molecule  & approved       \\\\\n",
       "\t DB00013         & 2005-06-13      & biotech         & withdrawn      \\\\\n",
       "\t DB04687         & 2007-09-11      & small molecule  & experimental   \\\\\n",
       "\t DB05736         & 2007-11-18      & small molecule  & investigational\\\\\n",
       "\t DB04650         & 2007-09-11      & small molecule  & experimental   \\\\\n",
       "\t DB04816         & 2007-09-11      & small molecule  & withdrawn      \\\\\n",
       "\t DB02121         & 2005-06-13      & small molecule  & experimental   \\\\\n",
       "\t DB13053         & 2016-10-20      & small molecule  & investigational\\\\\n",
       "\\end{tabular}\n"
      ],
      "text/markdown": [
       "\n",
       "drug | creationDate | type | status | \n",
       "|---|---|---|---|---|---|---|---|---|---|---|---|---|---|---|---|---|---|---|---|\n",
       "| DB09191         | 2015-10-16      | small molecule  | experimental    | \n",
       "| DB12179         | 2016-10-20      | small molecule  | investigational | \n",
       "| DB10508         | 2015-12-01      | biotech         | approved        | \n",
       "| DB12296         | 2016-10-20      | biotech         | investigational | \n",
       "| DB05562         | 2007-11-18      | small molecule  | investigational | \n",
       "| DB01974         | 2005-06-13      | small molecule  | experimental    | \n",
       "| DB03896         | 2005-06-13      | small molecule  | experimental    | \n",
       "| DB06670         | 2008-03-19      | small molecule  | investigational | \n",
       "| DB09262         | 2015-10-26      | small molecule  | approved        | \n",
       "| DB14065         | 2018-06-14      | small molecule  | experimental    | \n",
       "| DB00401         | 2005-06-13      | small molecule  | approved        | \n",
       "| DB01803         | 2005-06-13      | small molecule  | experimental    | \n",
       "| DB09350         | 2015-11-27      | small molecule  | approved        | \n",
       "| DB00013         | 2005-06-13      | biotech         | withdrawn       | \n",
       "| DB04687         | 2007-09-11      | small molecule  | experimental    | \n",
       "| DB05736         | 2007-11-18      | small molecule  | investigational | \n",
       "| DB04650         | 2007-09-11      | small molecule  | experimental    | \n",
       "| DB04816         | 2007-09-11      | small molecule  | withdrawn       | \n",
       "| DB02121         | 2005-06-13      | small molecule  | experimental    | \n",
       "| DB13053         | 2016-10-20      | small molecule  | investigational | \n",
       "\n",
       "\n"
      ],
      "text/plain": [
       "   drug    creationDate type           status         \n",
       "1  DB09191 2015-10-16   small molecule experimental   \n",
       "2  DB12179 2016-10-20   small molecule investigational\n",
       "3  DB10508 2015-12-01   biotech        approved       \n",
       "4  DB12296 2016-10-20   biotech        investigational\n",
       "5  DB05562 2007-11-18   small molecule investigational\n",
       "6  DB01974 2005-06-13   small molecule experimental   \n",
       "7  DB03896 2005-06-13   small molecule experimental   \n",
       "8  DB06670 2008-03-19   small molecule investigational\n",
       "9  DB09262 2015-10-26   small molecule approved       \n",
       "10 DB14065 2018-06-14   small molecule experimental   \n",
       "11 DB00401 2005-06-13   small molecule approved       \n",
       "12 DB01803 2005-06-13   small molecule experimental   \n",
       "13 DB09350 2015-11-27   small molecule approved       \n",
       "14 DB00013 2005-06-13   biotech        withdrawn      \n",
       "15 DB04687 2007-09-11   small molecule experimental   \n",
       "16 DB05736 2007-11-18   small molecule investigational\n",
       "17 DB04650 2007-09-11   small molecule experimental   \n",
       "18 DB04816 2007-09-11   small molecule withdrawn      \n",
       "19 DB02121 2005-06-13   small molecule experimental   \n",
       "20 DB13053 2016-10-20   small molecule investigational"
      ]
     },
     "metadata": {},
     "output_type": "display_data"
    }
   ],
   "source": [
    "## load necessary packages\n",
    "suppressMessages({\n",
    "    require(tidyverse)\n",
    "    require(lubridate)\n",
    "})\n",
    "\n",
    "## load data\n",
    "drugbank  <- read_csv(\"datasets/drugbank.csv\")\n",
    "\n",
    "## view 20 random records of the data\n",
    "set.seed(12345)                                   ## for reproducibility\n",
    "rndm_row_indices <- sample(nrow(drugbank), 20)    ## 20 random row indices\n",
    "drugbank[rndm_row_indices,]                       ## show the 20 randomly sampled rows"
   ]
  },
  {
   "cell_type": "markdown",
   "metadata": {},
   "source": [
    "## 2. Drugs ... *Biotech* vs. *Small Molecule*"
   ]
  },
  {
   "cell_type": "markdown",
   "metadata": {},
   "source": [
    "For starters, we'll observe how the DrugBank database has evolved over time in terms of the numbers of stored drugs (and types thereof). Drugs may be categorized into one of two types: *biotech* and *small molecule*. \n",
    "\n",
    "Biotech drugs are those with a *biological* origin (i.e. manufactured in, extracted from, or semi-synthesized from biological sources). On the other hand, small-molecule drugs are those that are *chemically synthesized*. They typically have small molecular weights, hence the name.\n",
    "\n",
    "Let's have a look at the drug types in the DrugBank database and how their numbers have increased over time. We'll display the following statistics over time since the inception of DrugBank:\n",
    "- The number of *small-molecule* drugs\n",
    "- The number of *biotech* drugs\n",
    "- The number of *all* drugs"
   ]
  },
  {
   "cell_type": "code",
   "execution_count": 4,
   "metadata": {},
   "outputs": [
    {
     "data": {
      "text/html": [
       "<table>\n",
       "<thead><tr><th scope=col>creationDate</th><th scope=col>biotech</th><th scope=col>small molecule</th><th scope=col>total</th></tr></thead>\n",
       "<tbody>\n",
       "\t<tr><td>2005-06-13</td><td>96        </td><td>3888      </td><td>3984      </td></tr>\n",
       "\t<tr><td>2007-03-30</td><td> 0        </td><td>   4      </td><td>   4      </td></tr>\n",
       "\t<tr><td>2007-04-04</td><td> 0        </td><td>   1      </td><td>   1      </td></tr>\n",
       "\t<tr><td>2007-05-08</td><td> 0        </td><td>   1      </td><td>   1      </td></tr>\n",
       "\t<tr><td>2007-05-14</td><td> 0        </td><td>   1      </td><td>   1      </td></tr>\n",
       "\t<tr><td>2007-05-15</td><td> 0        </td><td>   1      </td><td>   1      </td></tr>\n",
       "\t<tr><td>2007-05-16</td><td>10        </td><td>  14      </td><td>  24      </td></tr>\n",
       "\t<tr><td>2007-05-17</td><td> 0        </td><td>   2      </td><td>   2      </td></tr>\n",
       "\t<tr><td>2007-05-23</td><td> 1        </td><td>   1      </td><td>   2      </td></tr>\n",
       "\t<tr><td>2007-06-28</td><td> 0        </td><td>   2      </td><td>   2      </td></tr>\n",
       "</tbody>\n",
       "</table>\n"
      ],
      "text/latex": [
       "\\begin{tabular}{r|llll}\n",
       " creationDate & biotech & small molecule & total\\\\\n",
       "\\hline\n",
       "\t 2005-06-13 & 96         & 3888       & 3984      \\\\\n",
       "\t 2007-03-30 &  0         &    4       &    4      \\\\\n",
       "\t 2007-04-04 &  0         &    1       &    1      \\\\\n",
       "\t 2007-05-08 &  0         &    1       &    1      \\\\\n",
       "\t 2007-05-14 &  0         &    1       &    1      \\\\\n",
       "\t 2007-05-15 &  0         &    1       &    1      \\\\\n",
       "\t 2007-05-16 & 10         &   14       &   24      \\\\\n",
       "\t 2007-05-17 &  0         &    2       &    2      \\\\\n",
       "\t 2007-05-23 &  1         &    1       &    2      \\\\\n",
       "\t 2007-06-28 &  0         &    2       &    2      \\\\\n",
       "\\end{tabular}\n"
      ],
      "text/markdown": [
       "\n",
       "creationDate | biotech | small molecule | total | \n",
       "|---|---|---|---|---|---|---|---|---|---|\n",
       "| 2005-06-13 | 96         | 3888       | 3984       | \n",
       "| 2007-03-30 |  0         |    4       |    4       | \n",
       "| 2007-04-04 |  0         |    1       |    1       | \n",
       "| 2007-05-08 |  0         |    1       |    1       | \n",
       "| 2007-05-14 |  0         |    1       |    1       | \n",
       "| 2007-05-15 |  0         |    1       |    1       | \n",
       "| 2007-05-16 | 10         |   14       |   24       | \n",
       "| 2007-05-17 |  0         |    2       |    2       | \n",
       "| 2007-05-23 |  1         |    1       |    2       | \n",
       "| 2007-06-28 |  0         |    2       |    2       | \n",
       "\n",
       "\n"
      ],
      "text/plain": [
       "   creationDate biotech small molecule total\n",
       "1  2005-06-13   96      3888           3984 \n",
       "2  2007-03-30    0         4              4 \n",
       "3  2007-04-04    0         1              1 \n",
       "4  2007-05-08    0         1              1 \n",
       "5  2007-05-14    0         1              1 \n",
       "6  2007-05-15    0         1              1 \n",
       "7  2007-05-16   10        14             24 \n",
       "8  2007-05-17    0         2              2 \n",
       "9  2007-05-23    1         1              2 \n",
       "10 2007-06-28    0         2              2 "
      ]
     },
     "metadata": {},
     "output_type": "display_data"
    },
    {
     "data": {},
     "metadata": {},
     "output_type": "display_data"
    },
    {
     "data": {
      "image/png": "[encoded data removed]",
      "text/plain": [
       "plot without title"
      ]
     },
     "metadata": {},
     "output_type": "display_data"
    }
   ],
   "source": [
    "## get data required for plot: p1\n",
    "p1_data <- \n",
    "    drugbank %>%\n",
    "    group_by(creationDate, type) %>% \n",
    "    summarise(count = n()) %>%         ## colnames(p1_data) = c('creationDate', 'type', 'count')\n",
    "    spread(type, count)                ## colnames(p1_data) = c('creationDate', 'biotech', 'small molecule')\n",
    "\n",
    "## remove NA values in the data\n",
    "p1_data[is.na(p1_data)] <- 0\n",
    "\n",
    "## add 'total' column containing \"biotech + small molecule\"\n",
    "p1_data <- \n",
    "    p1_data %>% \n",
    "    mutate(total = (biotech + `small molecule`))\n",
    "\n",
    "## arrange records by creationDate\n",
    "p1_data <- \n",
    "    p1_data %>% \n",
    "    arrange(creationDate)\n",
    "\n",
    "## display first 10 records of the data to be visualized\n",
    "p1_data %>% head(10)\n",
    "\n",
    "## get plot of the quantities of the different drug types over time\n",
    "p1 <- \n",
    "    p1_data %>%  \n",
    "    ggplot(aes(x = creationDate)) + \n",
    "    geom_line(aes(y = cumsum(biotech), col = 'biotech')) + \n",
    "    geom_line(aes(y = cumsum(`small molecule`), col = 'small molecule')) + \n",
    "    geom_line(aes(y = cumsum(total), col = 'TOTAL')) + \n",
    "    scale_y_continuous(limits = c(0,12000)) + \n",
    "    xlab('Time') + \n",
    "    ylab('Quantity') + \n",
    "    labs(title = 'Drugs ... Biotech vs. Small Molecule',\n",
    "         subtitle = 'How their quantities in DrugBank increased over time', \n",
    "         caption = 'created by ggplot') + \n",
    "    scale_colour_discrete(name = \"Drug Type\")\n",
    "\n",
    "## display plot\n",
    "p1"
   ]
  },
  {
   "cell_type": "markdown",
   "metadata": {},
   "source": [
    "## 3. Drugs ... *Status*"
   ]
  },
  {
   "cell_type": "markdown",
   "metadata": {},
   "source": [
    "Now, we will have a look at the drug *status* (i.e. the drug development status). According to [DrugBank's documentation](https://www.drugbank.ca/documentation), the status of a drug can have one of the following values:\n",
    "- *Experimental*: The drug was experimentally shown to bind specific proteins in mammals, bacteria, viruses, fungi, or parasites\n",
    "- *Investigational*: The drug is in some phase of the drug approval process.\n",
    "- *Approved*: The drug was approved in at least one jurisdiction.\n",
    "- *Withdrawn*: The drug (previously approved) was withdrawn from the market.\n",
    "- *Other*: Other values exist for the *status* variable that we will ignore for now.\n",
    "\n",
    "We will create a cumulative plot like the one above but instead of a line graph, we will display an area chart."
   ]
  },
  {
   "cell_type": "code",
   "execution_count": 5,
   "metadata": {},
   "outputs": [
    {
     "data": {
      "text/html": [
       "<table>\n",
       "<thead><tr><th scope=col>creationDate</th><th scope=col>approved</th><th scope=col>experimental</th><th scope=col>investigational</th><th scope=col>other</th><th scope=col>withdrawn</th></tr></thead>\n",
       "<tbody>\n",
       "\t<tr><td>2005</td><td>1225</td><td>2601</td><td>  67</td><td> 3  </td><td>88  </td></tr>\n",
       "\t<tr><td>2007</td><td> 314</td><td> 304</td><td> 796</td><td> 9  </td><td>42  </td></tr>\n",
       "\t<tr><td>2008</td><td>  90</td><td>   0</td><td> 220</td><td> 0  </td><td> 4  </td></tr>\n",
       "\t<tr><td>2009</td><td>   1</td><td>   0</td><td>   0</td><td> 0  </td><td> 1  </td></tr>\n",
       "\t<tr><td>2010</td><td> 113</td><td>1870</td><td>  29</td><td> 8  </td><td>11  </td></tr>\n",
       "\t<tr><td>2011</td><td>   7</td><td>   0</td><td>   0</td><td> 0  </td><td> 0  </td></tr>\n",
       "\t<tr><td>2012</td><td>   7</td><td>   0</td><td>   0</td><td> 0  </td><td> 0  </td></tr>\n",
       "\t<tr><td>2013</td><td>  62</td><td>   6</td><td>  15</td><td> 0  </td><td> 4  </td></tr>\n",
       "\t<tr><td>2014</td><td>  33</td><td>   7</td><td>   2</td><td> 0  </td><td>48  </td></tr>\n",
       "\t<tr><td>2015</td><td>1176</td><td>  38</td><td>  11</td><td>15  </td><td>32  </td></tr>\n",
       "\t<tr><td>2016</td><td> 223</td><td>   8</td><td>1331</td><td> 1  </td><td>12  </td></tr>\n",
       "\t<tr><td>2017</td><td>  98</td><td>  75</td><td>  42</td><td> 2  </td><td> 6  </td></tr>\n",
       "\t<tr><td>2018</td><td>  87</td><td> 123</td><td>  24</td><td> 0  </td><td> 1  </td></tr>\n",
       "</tbody>\n",
       "</table>\n"
      ],
      "text/latex": [
       "\\begin{tabular}{r|llllll}\n",
       " creationDate & approved & experimental & investigational & other & withdrawn\\\\\n",
       "\\hline\n",
       "\t 2005 & 1225 & 2601 &   67 &  3   & 88  \\\\\n",
       "\t 2007 &  314 &  304 &  796 &  9   & 42  \\\\\n",
       "\t 2008 &   90 &    0 &  220 &  0   &  4  \\\\\n",
       "\t 2009 &    1 &    0 &    0 &  0   &  1  \\\\\n",
       "\t 2010 &  113 & 1870 &   29 &  8   & 11  \\\\\n",
       "\t 2011 &    7 &    0 &    0 &  0   &  0  \\\\\n",
       "\t 2012 &    7 &    0 &    0 &  0   &  0  \\\\\n",
       "\t 2013 &   62 &    6 &   15 &  0   &  4  \\\\\n",
       "\t 2014 &   33 &    7 &    2 &  0   & 48  \\\\\n",
       "\t 2015 & 1176 &   38 &   11 & 15   & 32  \\\\\n",
       "\t 2016 &  223 &    8 & 1331 &  1   & 12  \\\\\n",
       "\t 2017 &   98 &   75 &   42 &  2   &  6  \\\\\n",
       "\t 2018 &   87 &  123 &   24 &  0   &  1  \\\\\n",
       "\\end{tabular}\n"
      ],
      "text/markdown": [
       "\n",
       "creationDate | approved | experimental | investigational | other | withdrawn | \n",
       "|---|---|---|---|---|---|---|---|---|---|---|---|---|\n",
       "| 2005 | 1225 | 2601 |   67 |  3   | 88   | \n",
       "| 2007 |  314 |  304 |  796 |  9   | 42   | \n",
       "| 2008 |   90 |    0 |  220 |  0   |  4   | \n",
       "| 2009 |    1 |    0 |    0 |  0   |  1   | \n",
       "| 2010 |  113 | 1870 |   29 |  8   | 11   | \n",
       "| 2011 |    7 |    0 |    0 |  0   |  0   | \n",
       "| 2012 |    7 |    0 |    0 |  0   |  0   | \n",
       "| 2013 |   62 |    6 |   15 |  0   |  4   | \n",
       "| 2014 |   33 |    7 |    2 |  0   | 48   | \n",
       "| 2015 | 1176 |   38 |   11 | 15   | 32   | \n",
       "| 2016 |  223 |    8 | 1331 |  1   | 12   | \n",
       "| 2017 |   98 |   75 |   42 |  2   |  6   | \n",
       "| 2018 |   87 |  123 |   24 |  0   |  1   | \n",
       "\n",
       "\n"
      ],
      "text/plain": [
       "   creationDate approved experimental investigational other withdrawn\n",
       "1  2005         1225     2601           67             3    88       \n",
       "2  2007          314      304          796             9    42       \n",
       "3  2008           90        0          220             0     4       \n",
       "4  2009            1        0            0             0     1       \n",
       "5  2010          113     1870           29             8    11       \n",
       "6  2011            7        0            0             0     0       \n",
       "7  2012            7        0            0             0     0       \n",
       "8  2013           62        6           15             0     4       \n",
       "9  2014           33        7            2             0    48       \n",
       "10 2015         1176       38           11            15    32       \n",
       "11 2016          223        8         1331             1    12       \n",
       "12 2017           98       75           42             2     6       \n",
       "13 2018           87      123           24             0     1       "
      ]
     },
     "metadata": {},
     "output_type": "display_data"
    },
    {
     "data": {},
     "metadata": {},
     "output_type": "display_data"
    },
    {
     "data": {
      "image/png": "[encoded data removed]",
      "text/plain": [
       "plot without title"
      ]
     },
     "metadata": {},
     "output_type": "display_data"
    }
   ],
   "source": [
    "## get data required for plot: p2\n",
    "p2_data <- \n",
    "    drugbank %>% \n",
    "    mutate(creationDate = year(creationDate)) %>% \n",
    "    group_by(creationDate, status) %>% \n",
    "    summarise(count = n()) %>% \n",
    "    spread(status, count)\n",
    "\n",
    "## remove NA values in the data\n",
    "p2_data[is.na(p2_data)] <- 0\n",
    "\n",
    "## arrange records by creationDate\n",
    "p2_data <- \n",
    "    p2_data %>% \n",
    "    arrange(creationDate)\n",
    "\n",
    "## display the data to be visualized\n",
    "p2_data\n",
    "\n",
    "# cumulative sums for all status types\n",
    "p2_data[,2:ncol(p2_data)] <- \n",
    "    p2_data[,2:ncol(p2_data)] %>% \n",
    "    mutate_all(cumsum)\n",
    "\n",
    "## get plot of the quantities of the different drug statuses over time\n",
    "p2 <- \n",
    "    p2_data %>% \n",
    "    ggplot(aes(x = creationDate)) + \n",
    "    geom_area(aes(y = experimental+investigational+approved+withdrawn, fill = 'withdrawn')) +  \n",
    "    geom_area(aes(y = experimental+investigational+approved, fill = 'approved')) +  \n",
    "    geom_area(aes(y = experimental+investigational, fill = 'investigational')) +  \n",
    "    geom_area(aes(y = experimental, fill = 'experimental')) +\n",
    "    scale_y_continuous(limits = c(0,12000)) + \n",
    "    xlab('Time') + \n",
    "    ylab('Quantity') + \n",
    "    labs(title = 'Drug Status',\n",
    "         subtitle = 'Proportions of the different status values over time', \n",
    "         caption = 'created by ggplot', \n",
    "         fill = 'Drug Status')\n",
    "\n",
    "## display plot\n",
    "p2"
   ]
  },
  {
   "cell_type": "markdown",
   "metadata": {},
   "source": [
    "*Stop here! Only the three first tasks. :)*"
   ]
  }
 ],
 "metadata": {
  "kernelspec": {
   "display_name": "R",
   "language": "R",
   "name": "ir"
  },
  "language_info": {
   "codemirror_mode": "r",
   "file_extension": ".r",
   "mimetype": "text/x-r-source",
   "name": "R",
   "pygments_lexer": "r",
   "version": "3.5.1"
  }
 },
 "nbformat": 4,
 "nbformat_minor": 2
}
